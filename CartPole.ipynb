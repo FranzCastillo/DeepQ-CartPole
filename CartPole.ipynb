{
 "cells": [
  {
   "cell_type": "markdown",
   "metadata": {},
   "source": [
    "### LIBRARIES"
   ]
  },
  {
   "cell_type": "code",
   "execution_count": 48,
   "metadata": {},
   "outputs": [],
   "source": [
    "# !pip install gymnasium\n",
    "# !pip install numpy\n",
    "# !pip install torch\n",
    "# !pip install keras"
   ]
  },
  {
   "cell_type": "code",
   "execution_count": 49,
   "metadata": {},
   "outputs": [],
   "source": [
    "import gymnasium as gym\n",
    "import numpy as np\n",
    "import random as rand\n",
    "from keras.models import Sequential\n",
    "from keras.layers import Dense\n",
    "from keras.optimizers import Adam\n",
    "from keras.models import load_model\n",
    "from collections import deque"
   ]
  },
  {
   "cell_type": "markdown",
   "metadata": {},
   "source": [
    "### HYPERPARAMETERS"
   ]
  },
  {
   "cell_type": "code",
   "execution_count": 56,
   "metadata": {},
   "outputs": [],
   "source": [
    "# Hyperparameters\n",
    "GAMMA = 0.99  # Discount factor\n",
    "NUM_EPISODES = 5  # Number of episodes to run\n",
    "BATCH_SIZE = 64  # Number of experiences to sample per training step\n",
    "MEMORY_SIZE = 10000  # Experience replay memory size\n",
    "\n",
    "LEARNING_RATE = 0.001  # Learning rate\n",
    "EPSILON = 1.0  # Initial exploration rate\n",
    "EPSILON_DECAY = 0.995  # Exploration decay rate per episode\n",
    "MIN_EPSILON = 0.01  # Minimum exploration rate\n",
    "\n",
    "MAX_ITERATIONS = 500  # Max steps per episode\n",
    "TARGET_UPDATE_FREQUENCY = 10  # Episodes between target network updates"
   ]
  },
  {
   "cell_type": "markdown",
   "metadata": {},
   "source": [
    "### MEMORY"
   ]
  },
  {
   "cell_type": "code",
   "execution_count": 57,
   "metadata": {},
   "outputs": [],
   "source": [
    "class Memory:\n",
    "    \"\"\"\n",
    "    Experience Replay Memory.\n",
    "    \n",
    "    Args:\n",
    "        max_memory (int): Maximum number of experiences the Memory can keep.\n",
    "    \"\"\"\n",
    "    def __init__(self, max_memory):\n",
    "        self._samples = deque(maxlen=max_memory)\n",
    "\n",
    "    def add_sample(self, sample):\n",
    "        self._samples.append(sample)\n",
    "\n",
    "    def sample(self, num_samples):\n",
    "        num_samples = min(num_samples, len(self._samples))\n",
    "        return rand.sample(self._samples, num_samples)\n",
    "\n",
    "    @property\n",
    "    def num_samples(self):\n",
    "        return len(self._samples)"
   ]
  }
 ],
 "metadata": {
  "kernelspec": {
   "display_name": "base",
   "language": "python",
   "name": "python3"
  },
  "language_info": {
   "codemirror_mode": {
    "name": "ipython",
    "version": 3
   },
   "file_extension": ".py",
   "mimetype": "text/x-python",
   "name": "python",
   "nbconvert_exporter": "python",
   "pygments_lexer": "ipython3",
   "version": "3.11.7"
  }
 },
 "nbformat": 4,
 "nbformat_minor": 2
}
